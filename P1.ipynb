{
 "cells": [
  {
   "cell_type": "code",
   "execution_count": null,
   "id": "6b63368c-95a4-4323-8bf4-1f708c8b0827",
   "metadata": {},
   "outputs": [],
   "source": [
    "import pandas as pd ;\n",
    "import numpy as np ;\n",
    "import seaborn as sns ;\n",
    "import matplotlib.pyplot as plt ;"
   ]
  },
  {
   "cell_type": "code",
   "execution_count": null,
   "id": "cce2efcb-28a9-4622-92ae-993a294d3049",
   "metadata": {},
   "outputs": [],
   "source": [
    "df = pd.read_csv('Heart.csv')\n",
    "df.head()"
   ]
  },
  {
   "cell_type": "code",
   "execution_count": null,
   "id": "4583b8f2-ce42-43ae-9870-63857aad188d",
   "metadata": {},
   "outputs": [],
   "source": [
    "df.shape"
   ]
  },
  {
   "cell_type": "code",
   "execution_count": null,
   "id": "bc838e81-7b1d-4f1e-add0-d85b0003f04a",
   "metadata": {},
   "outputs": [],
   "source": [
    "df.isnull().sum()"
   ]
  },
  {
   "cell_type": "code",
   "execution_count": null,
   "id": "1c6381f9-71b7-4de6-8e10-2bffe047e7b7",
   "metadata": {},
   "outputs": [],
   "source": [
    "df.info()"
   ]
  },
  {
   "cell_type": "code",
   "execution_count": null,
   "id": "b501e42f-151c-4088-817e-84bc520d6d89",
   "metadata": {},
   "outputs": [],
   "source": [
    "df.describe()"
   ]
  },
  {
   "cell_type": "code",
   "execution_count": null,
   "id": "c8b4ccd0-5611-43e1-993f-1bb5db1577d8",
   "metadata": {},
   "outputs": [],
   "source": [
    "df.dtypes"
   ]
  },
  {
   "cell_type": "code",
   "execution_count": null,
   "id": "9b82f04c-f877-44d7-a59f-f142cfb20c6d",
   "metadata": {},
   "outputs": [],
   "source": [
    "( df == 0 ).sum()"
   ]
  },
  {
   "cell_type": "code",
   "execution_count": null,
   "id": "ab4b546e-7825-459b-8e66-9d2daa949af9",
   "metadata": {},
   "outputs": [],
   "source": [
    "mean = df.mean( numeric_only = True )\n",
    "mean"
   ]
  },
  {
   "cell_type": "code",
   "execution_count": null,
   "id": "2e6a4bcd-bfdf-4972-a93e-1f9fc1e4a98e",
   "metadata": {},
   "outputs": [],
   "source": [
    "from sklearn.preprocessing import LabelEncoder \n",
    "le = LabelEncoder()\n",
    "le.fit(df['Thal'])\n",
    "df.fillna( mean , inplace = True )\n",
    "df.isnull().sum()"
   ]
  },
  {
   "cell_type": "code",
   "execution_count": null,
   "id": "e40e6031-8606-43f3-b3bb-bfb0962df2d1",
   "metadata": {},
   "outputs": [],
   "source": [
    "drop_values = df.drop( columns = ['Fbs','Oldpeak','RestECG','MaxHR','ExAng','Slope','Ca','Thal','AHD'] )\n",
    "drop_values.head()"
   ]
  },
  {
   "cell_type": "code",
   "execution_count": null,
   "id": "abd77efd-244a-4149-9d4b-531776bdb691",
   "metadata": {},
   "outputs": [],
   "source": [
    "summ = df.loc[:,'Age':'Chol']\n",
    "summ.head()"
   ]
  },
  {
   "cell_type": "code",
   "execution_count": null,
   "id": "a6803935-e9a6-4639-a8c9-fe26921e33a9",
   "metadata": {},
   "outputs": [],
   "source": [
    "values = df.iloc[:,1:6]\n",
    "values.head()"
   ]
  },
  {
   "cell_type": "code",
   "execution_count": null,
   "id": "fef4a7a5-5801-46d4-823d-22ee8b3cc8ce",
   "metadata": {},
   "outputs": [],
   "source": [
    "imp_column = df[[ 'Age','Sex','ChestPain','RestBP','Chol']]\n",
    "imp_column.head()"
   ]
  },
  {
   "cell_type": "code",
   "execution_count": null,
   "id": "aaa494a2-183a-49d0-bab6-9be54d66cee3",
   "metadata": {},
   "outputs": [],
   "source": [
    "sub = values.loc[ ((df['Sex'] == 1) & (df['Chol'] > 300)) & (df['Age'] > 45)]\n",
    "max = sub.loc[ sub['RestBP'] > 125 ]\n",
    "max.iloc[1:4]\n",
    "\n"
   ]
  },
  {
   "cell_type": "code",
   "execution_count": null,
   "id": "03345c9c-e78b-4a31-8645-744e033a4807",
   "metadata": {},
   "outputs": [],
   "source": [
    "sns.pairplot(values)\n",
    "plt.show()"
   ]
  },
  {
   "cell_type": "code",
   "execution_count": null,
   "id": "ab7cdeeb-dd37-4f92-9321-91d0faacaa50",
   "metadata": {},
   "outputs": [],
   "source": [
    "from sklearn.model_selection import train_test_split"
   ]
  },
  {
   "cell_type": "code",
   "execution_count": null,
   "id": "2526be03-7b0c-4c6f-93e1-6638df0c0af9",
   "metadata": {},
   "outputs": [],
   "source": [
    "x_train,x_test = train_test_split(imp_column,test_size=0.25,random_state=40)\n",
    "def convert_chest_pain(value):\n",
    "    if value == 'asymptomatic':\n",
    "        return 1\n",
    "    else:\n",
    "        return 0\n",
    "\n",
    "# Applying the function and replacing the 'ChestPain' column\n",
    "df['ChestPain'] = df['ChestPain'].apply(convert_chest_pain)"
   ]
  },
  {
   "cell_type": "code",
   "execution_count": null,
   "id": "9f4d8fbc-ab24-4232-b023-878826aaae67",
   "metadata": {},
   "outputs": [],
   "source": [
    "x_test.count()"
   ]
  },
  {
   "cell_type": "code",
   "execution_count": null,
   "id": "0da96e27-7703-445d-8a36-7d4288831b30",
   "metadata": {},
   "outputs": [],
   "source": [
    "import os \n",
    "os.getcwd()"
   ]
  },
  {
   "cell_type": "code",
   "execution_count": null,
   "id": "cd5c8ea2-56db-4317-8fac-e917127a2f80",
   "metadata": {},
   "outputs": [],
   "source": [
    "df[df == 0].count()"
   ]
  },
  {
   "cell_type": "code",
   "execution_count": null,
   "id": "15b9c386-33eb-49b1-9dc8-1fa2446f0ac5",
   "metadata": {},
   "outputs": [],
   "source": [
    "df['Age'].mean()"
   ]
  },
  {
   "cell_type": "code",
   "execution_count": null,
   "id": "f1b59e48-7196-4675-ac0e-48d14627b777",
   "metadata": {},
   "outputs": [],
   "source": [
    "df['Thal'].unique()"
   ]
  }
 ],
 "metadata": {
  "kernelspec": {
   "display_name": "Python 3 (ipykernel)",
   "language": "python",
   "name": "python3"
  },
  "language_info": {
   "codemirror_mode": {
    "name": "ipython",
    "version": 3
   },
   "file_extension": ".py",
   "mimetype": "text/x-python",
   "name": "python",
   "nbconvert_exporter": "python",
   "pygments_lexer": "ipython3",
   "version": "3.12.4"
  }
 },
 "nbformat": 4,
 "nbformat_minor": 5
}
